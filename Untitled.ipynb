{
 "cells": [
  {
   "cell_type": "code",
   "execution_count": null,
   "id": "75d683c0",
   "metadata": {},
   "outputs": [],
   "source": [
    "# Árbol filogenético Data_Sequences"
   ]
  },
  {
   "cell_type": "code",
   "execution_count": 1,
   "id": "9bbaafc9",
   "metadata": {},
   "outputs": [
    {
     "ename": "FileNotFoundError",
     "evalue": "[Errno 2] No such file or directory: 'data/sequence (4).seq'",
     "output_type": "error",
     "traceback": [
      "\u001b[1;31m---------------------------------------------------------------------------\u001b[0m",
      "\u001b[1;31mFileNotFoundError\u001b[0m                         Traceback (most recent call last)",
      "\u001b[1;32m~\\AppData\\Local\\Temp/ipykernel_2736/2474909369.py\u001b[0m in \u001b[0;36m<module>\u001b[1;34m\u001b[0m\n\u001b[0;32m     16\u001b[0m \u001b[1;33m\u001b[0m\u001b[0m\n\u001b[0;32m     17\u001b[0m \u001b[0mEntrez\u001b[0m\u001b[1;33m.\u001b[0m\u001b[0memail\u001b[0m \u001b[1;33m=\u001b[0m \u001b[1;34m\"arnoldd.hernandez@est.ikiam.edu.ec\"\u001b[0m\u001b[1;33m\u001b[0m\u001b[1;33m\u001b[0m\u001b[0m\n\u001b[1;32m---> 18\u001b[1;33m \u001b[1;32mwith\u001b[0m \u001b[0mopen\u001b[0m\u001b[1;33m(\u001b[0m\u001b[1;34m'data/sequence (4).seq'\u001b[0m\u001b[1;33m)\u001b[0m \u001b[1;32mas\u001b[0m \u001b[0mcsv_file\u001b[0m\u001b[1;33m:\u001b[0m\u001b[1;33m\u001b[0m\u001b[1;33m\u001b[0m\u001b[0m\n\u001b[0m\u001b[0;32m     19\u001b[0m     \u001b[0mcsv_reader\u001b[0m \u001b[1;33m=\u001b[0m \u001b[0mcsv\u001b[0m\u001b[1;33m.\u001b[0m\u001b[0mreader\u001b[0m\u001b[1;33m(\u001b[0m\u001b[0mcsv_file\u001b[0m\u001b[1;33m,\u001b[0m \u001b[0mdelimiter\u001b[0m\u001b[1;33m=\u001b[0m\u001b[1;34m','\u001b[0m\u001b[1;33m)\u001b[0m\u001b[1;33m\u001b[0m\u001b[1;33m\u001b[0m\u001b[0m\n\u001b[0;32m     20\u001b[0m     \u001b[1;32mfor\u001b[0m \u001b[0mrow\u001b[0m \u001b[1;32min\u001b[0m \u001b[0mcsv_reader\u001b[0m\u001b[1;33m:\u001b[0m\u001b[1;33m\u001b[0m\u001b[1;33m\u001b[0m\u001b[0m\n",
      "\u001b[1;31mFileNotFoundError\u001b[0m: [Errno 2] No such file or directory: 'data/sequence (4).seq'"
     ]
    }
   ],
   "source": [
    "# Escriba aquí su código para el ejercicio 6\n",
    "import Bio as Bio\n",
    "from Bio import AlignIO\n",
    "from Bio import Phylo\n",
    "import matplotlib\n",
    "import matplotlib.pyplot as plt\n",
    "\n",
    "# read the file \n",
    "\n",
    "import csv\n",
    "from Bio import SeqIO\n",
    "from Bio import Entrez\n",
    "\n",
    "fasta_file = {}\n",
    "ct = 0\n",
    "\n",
    "Entrez.email = \"arnoldd.hernandez@est.ikiam.edu.ec\"\n",
    "with open('data/sequence (4).seq') as csv_file:\n",
    "    csv_reader = csv.reader(csv_file, delimiter=',')\n",
    "    for row in csv_reader:\n",
    "        print(row)\n",
    "        with Entrez.efetch(db=\"nucleotide\", rettype=\"gb\", retmode = \"text\", id = row[0]) as handle:\n",
    "            for seq_record in SeqIO.parse(handle, \"gb\"):\n",
    "                fasta_file[row[0]] = str(seq_record.seq)\n",
    "                ct += 1  \n",
    "      \n",
    "print(\"Number of sequences in file:\", ct)\n",
    "\n",
    "# save all sequences in the multi-fasta file \"sequences_general.txt\"\n",
    "\n",
    "f = open(\"sequencesfiles.txt\",\"w+\")\n",
    "for keys,values in fasta_file.items():\n",
    "    f.write(\">\" + str(keys) + \"\\n\" + str(values) + \"\\n\")\n",
    "f.close()\n",
    "\n",
    "from Bio.Align.Applications import ClustalOmegaCommandline\n",
    "\n",
    "in_file = \"sequencesfiles.txt\"\n",
    "\n",
    "out_file = \"SecuencesAlignment.aln\"\n",
    "\n",
    "clustalomega_cline = ClustalOmegaCommandline(infile = in_file, outfile = out_file, verbose=True, auto=False)\n",
    "\n",
    "print(clustalomega_cline)\n",
    "\n",
    "# WINDOWS\n",
    "# Python will fill out clustal omega in the command line for you!\n",
    "path = \"r'\" + str(wdir) #.'\n",
    "input_command = '\"' + wdir + '/clustal-omega-1.2.2-win64/' + str(clustalomega_cline)[0:8] + '\" ' + str(clustalomega_cline)[9:] + '-threads=1'\n",
    "os.system(input_command)\n",
    "\n",
    "with open(\"data/SequenceAlignment.aln\",\"r\") as aln: \n",
    "    alignment = AlignIO.read(aln,\"clustal\")\n",
    "#print(type(alignment))\n",
    "from Bio.Phylo.TreeConstruction import DistanceCalculator \n",
    "calculator = DistanceCalculator('identity')\n",
    "distance_matrix = calculator.get_distance(alignment)\n",
    "from Bio.Phylo.TreeConstruction import DistanceTreeConstructor\n",
    "constructor = DistanceTreeConstructor(calculator)\n",
    "shark_tree = constructor.build_tree(alignment)\n",
    "shark_tree.rooted = True\n",
    "#print(shark_tree)\n",
    "Phylo.write(shark_tree, \"shark_tree.xml\", \"phyloxml\")\n",
    "Phylo.draw_ascii(shark_tree)\n",
    "\n",
    "fig = plt.figure(figsize=(13, 5), dpi=100) \n",
    "matplotlib.rc('font', size=12)             \n",
    "matplotlib.rc('xtick', labelsize=10)       \n",
    "matplotlib.rc('ytick', labelsize=10)      \n",
    "axes = fig.add_subplot(1, 1, 1)\n",
    "plt.savefig(\"phylogenetic tree.jpg\")\n",
    "Phylo.draw(shark_tree, axes=axes)"
   ]
  }
 ],
 "metadata": {
  "kernelspec": {
   "display_name": "Python 3 (ipykernel)",
   "language": "python",
   "name": "python3"
  },
  "language_info": {
   "codemirror_mode": {
    "name": "ipython",
    "version": 3
   },
   "file_extension": ".py",
   "mimetype": "text/x-python",
   "name": "python",
   "nbconvert_exporter": "python",
   "pygments_lexer": "ipython3",
   "version": "3.8.8"
  },
  "latex_envs": {
   "LaTeX_envs_menu_present": true,
   "autoclose": false,
   "autocomplete": true,
   "bibliofile": "biblio.bib",
   "cite_by": "apalike",
   "current_citInitial": 1,
   "eqLabelWithNumbers": true,
   "eqNumInitial": 1,
   "hotkeys": {
    "equation": "Ctrl-E",
    "itemize": "Ctrl-I"
   },
   "labels_anchors": false,
   "latex_user_defs": false,
   "report_style_numbering": false,
   "user_envs_cfg": false
  },
  "toc": {
   "base_numbering": 1,
   "nav_menu": {},
   "number_sections": true,
   "sideBar": true,
   "skip_h1_title": false,
   "title_cell": "Table of Contents",
   "title_sidebar": "Contents",
   "toc_cell": false,
   "toc_position": {},
   "toc_section_display": true,
   "toc_window_display": false
  },
  "varInspector": {
   "cols": {
    "lenName": 16,
    "lenType": 16,
    "lenVar": 40
   },
   "kernels_config": {
    "python": {
     "delete_cmd_postfix": "",
     "delete_cmd_prefix": "del ",
     "library": "var_list.py",
     "varRefreshCmd": "print(var_dic_list())"
    },
    "r": {
     "delete_cmd_postfix": ") ",
     "delete_cmd_prefix": "rm(",
     "library": "var_list.r",
     "varRefreshCmd": "cat(var_dic_list()) "
    }
   },
   "types_to_exclude": [
    "module",
    "function",
    "builtin_function_or_method",
    "instance",
    "_Feature"
   ],
   "window_display": false
  }
 },
 "nbformat": 4,
 "nbformat_minor": 5
}
